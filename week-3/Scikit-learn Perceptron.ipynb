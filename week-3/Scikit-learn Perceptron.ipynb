{
 "cells": [
  {
   "cell_type": "code",
   "execution_count": null,
   "metadata": {
    "collapsed": true
   },
   "outputs": [],
   "source": [
    "# http://stamfordresearch.com/scikit-learn-perceptron/"
   ]
  },
  {
   "cell_type": "code",
   "execution_count": 9,
   "metadata": {
    "collapsed": true
   },
   "outputs": [],
   "source": [
    "import numpy as np\n",
    "import matplotlib.pyplot as plt\n",
    "from sklearn.linear_model import Perceptron\n",
    "\n",
    "# Needed to show the plots inline\n",
    "%matplotlib inline"
   ]
  },
  {
   "cell_type": "code",
   "execution_count": 2,
   "metadata": {
    "collapsed": true
   },
   "outputs": [],
   "source": [
    "# Data\n",
    "d = np.array([\n",
    "[2, 1, 2, 5, 7, 2, 3, 6, 1, 2, 5, 4, 6, 5],\n",
    "[2, 3, 3, 3, 3, 4, 4, 4, 5, 5, 5, 6, 6, 7]\n",
    "])\n",
    "\n",
    "# Labels\n",
    "t = np.array([0, 0, 0, 1, 1, 0, 0, 1, 0, 0, 1, 1, 1, 1])"
   ]
  },
  {
   "cell_type": "code",
   "execution_count": 4,
   "metadata": {
    "collapsed": false
   },
   "outputs": [
    {
     "data": {
      "text/plain": [
       "<matplotlib.collections.PathCollection at 0x10c04b710>"
      ]
     },
     "execution_count": 4,
     "metadata": {},
     "output_type": "execute_result"
    },
    {
     "data": {
      "image/png": "[encoded data removed]",
      "text/plain": [
       "<matplotlib.figure.Figure at 0x108ddd510>"
      ]
     },
     "metadata": {},
     "output_type": "display_data"
    }
   ],
   "source": [
    "colormap = np.array(['r', 'k'])\n",
    "plt.scatter(d[0], d[1], c=colormap[t], s=40)"
   ]
  },
  {
   "cell_type": "code",
   "execution_count": 10,
   "metadata": {
    "collapsed": true
   },
   "outputs": [],
   "source": [
    "model = Perceptron(n_iter=100)"
   ]
  },
  {
   "cell_type": "code",
   "execution_count": 11,
   "metadata": {
    "collapsed": false
   },
   "outputs": [
    {
     "data": {
      "text/plain": [
       "Perceptron(alpha=0.0001, class_weight=None, eta0=1.0, fit_intercept=True,\n",
       "      n_iter=100, n_jobs=1, penalty=None, random_state=0, shuffle=True,\n",
       "      verbose=0, warm_start=False)"
      ]
     },
     "execution_count": 11,
     "metadata": {},
     "output_type": "execute_result"
    }
   ],
   "source": [
    "model.fit(d.transpose(), t)"
   ]
  },
  {
   "cell_type": "code",
   "execution_count": 12,
   "metadata": {
    "collapsed": false
   },
   "outputs": [
    {
     "name": "stdout",
     "output_type": "stream",
     "text": [
      "Accuracy   100.0%\n"
     ]
    }
   ],
   "source": [
    "print \"Accuracy   \" + str(model.score(d.transpose(), t)*100) + \"%\""
   ]
  },
  {
   "cell_type": "code",
   "execution_count": 15,
   "metadata": {
    "collapsed": false
   },
   "outputs": [
    {
     "name": "stdout",
     "output_type": "stream",
     "text": [
      "Coefficient 0: 17.0\n",
      "Coefficient 1: -7.0\n",
      "Bias [-24.]\n"
     ]
    }
   ],
   "source": [
    "# Output the values\n",
    "print \"Coefficient 0: \" + str(model.coef_[0,0])\n",
    "print \"Coefficient 1: \" + str(model.coef_[0,1])\n",
    "print \"Bias \" + str(model.intercept_)"
   ]
  },
  {
   "cell_type": "code",
   "execution_count": 23,
   "metadata": {
    "collapsed": false
   },
   "outputs": [
    {
     "name": "stdout",
     "output_type": "stream",
     "text": [
      "[ -1.          -0.65306122  -0.30612245   0.04081633   0.3877551\n",
      "   0.73469388   1.08163265   1.42857143   1.7755102    2.12244898\n",
      "   2.46938776   2.81632653   3.16326531   3.51020408   3.85714286\n",
      "   4.20408163   4.55102041   4.89795918   5.24489796   5.59183673\n",
      "   5.93877551   6.28571429   6.63265306   6.97959184   7.32653061\n",
      "   7.67346939   8.02040816   8.36734694   8.71428571   9.06122449\n",
      "   9.40816327   9.75510204  10.10204082  10.44897959  10.79591837\n",
      "  11.14285714  11.48979592  11.83673469  12.18367347  12.53061224\n",
      "  12.87755102  13.2244898   13.57142857  13.91836735  14.26530612\n",
      "  14.6122449   14.95918367  15.30612245  15.65306122  16.        ]\n"
     ]
    }
   ],
   "source": [
    "print yy"
   ]
  },
  {
   "cell_type": "code",
   "execution_count": 24,
   "metadata": {
    "collapsed": false
   },
   "outputs": [
    {
     "data": {
      "text/plain": [
       "[<matplotlib.lines.Line2D at 0x10ca16350>]"
      ]
     },
     "execution_count": 24,
     "metadata": {},
     "output_type": "execute_result"
    },
    {
     "data": {
      "image/png": "[encoded data removed]",
      "text/plain": [
       "<matplotlib.figure.Figure at 0x10c696bd0>"
      ]
     },
     "metadata": {},
     "output_type": "display_data"
    }
   ],
   "source": [
    "plt.scatter(d[0], d[1], c=colormap[t], s=40)\n",
    "\n",
    "# Calc the hyperplane (decision boundary)\n",
    "ymin, ymax = plt.ylim()\n",
    "w = model.coef_[0]\n",
    "a = -w[0] / w[1]\n",
    "xx = np.linspace(ymin, ymax)\n",
    "yy = a * xx - (model.intercept_[0]) / w[1]\n",
    "\n",
    "# Plot the line\n",
    "plt.plot(xx, yy, 'm--')"
   ]
  },
  {
   "cell_type": "code",
   "execution_count": 26,
   "metadata": {
    "collapsed": false
   },
   "outputs": [
    {
     "name": "stdout",
     "output_type": "stream",
     "text": [
      "[[0 7 4 3 9 8 6 0 7 2 0 3 7 1 6 1 6 7 7 9 1 8 3 8 4 5 6 4 9 5 5 3 0 7 8 3 0\n",
      "  5 1 7 1 6 5 9 9 6 9 9 7 1]\n",
      " [1 7 0 4 2 2 6 8 3 3 0 2 3 4 3 8 9 4 7 2 3 6 3 2 6 0 0 1 5 5 9 7 4 2 0 5 5\n",
      "  0 8 9 7 6 0 5 4 4 3 9 1 8]]\n"
     ]
    }
   ],
   "source": [
    "uniform_random_data = np.random.randint(10, size=(2, 50))\n",
    "\n",
    "# Have a look at it\n",
    "print uniform_random_data"
   ]
  },
  {
   "cell_type": "code",
   "execution_count": 28,
   "metadata": {
    "collapsed": false
   },
   "outputs": [
    {
     "name": "stdout",
     "output_type": "stream",
     "text": [
      "[0 1 1 0 1 1 1 0 1 0 0 1 1 0 1 0 1 1 1 1 0 1 1 1 1 1 1 1 1 1 0 0 0 1 1 0 0\n",
      " 1 0 1 0 1 1 1 1 1 1 1 1 0]\n"
     ]
    }
   ],
   "source": [
    "prediction = model.predict(uniform_random_data.transpose())\n",
    "print prediction"
   ]
  },
  {
   "cell_type": "code",
   "execution_count": 29,
   "metadata": {
    "collapsed": false
   },
   "outputs": [
    {
     "data": {
      "text/plain": [
       "[<matplotlib.lines.Line2D at 0x10cc00450>]"
      ]
     },
     "execution_count": 29,
     "metadata": {},
     "output_type": "execute_result"
    },
    {
     "data": {
      "image/png": "[encoded data removed]",
      "text/plain": [
       "<matplotlib.figure.Figure at 0x10ca290d0>"
      ]
     },
     "metadata": {},
     "output_type": "display_data"
    }
   ],
   "source": [
    "# Plot the random values AND the prediction as a color\n",
    "plt.scatter(uniform_random_data[0], uniform_random_data[1], c=colormap[prediction], s=40)\n",
    "# Now plot the hyperplane\n",
    "ymin, ymax = plt.ylim()\n",
    "# Calc\n",
    "w = model.coef_[0]\n",
    "a = -w[0] / w[1]\n",
    "xx = np.linspace(ymin, ymax)\n",
    "yy = a * xx - (model.intercept_[0]) / w[1]\n",
    "plt.plot(xx, yy, 'm--')"
   ]
  },
  {
   "cell_type": "code",
   "execution_count": null,
   "metadata": {
    "collapsed": true
   },
   "outputs": [],
   "source": []
  }
 ],
 "metadata": {
  "kernelspec": {
   "display_name": "Python 2",
   "language": "python",
   "name": "python2"
  },
  "language_info": {
   "codemirror_mode": {
    "name": "ipython",
    "version": 2
   },
   "file_extension": ".py",
   "mimetype": "text/x-python",
   "name": "python",
   "nbconvert_exporter": "python",
   "pygments_lexer": "ipython2",
   "version": "2.7.11"
  }
 },
 "nbformat": 4,
 "nbformat_minor": 1
}
